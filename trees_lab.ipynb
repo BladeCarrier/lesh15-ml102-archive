{
 "cells": [
  {
   "cell_type": "markdown",
   "metadata": {},
   "source": [
    "#Деревья\n",
    "В этой лабораторной работе содержится полная биография Буратино: рождение, поступление в медицинский университет, 15 секунд успешной медицинской диагностики и безвременная смерть от рук деструктора.\n",
    "\n",
    "Между делом вы научитесь общей схеме применения моделей (в частности, классификационных деревьев) для решения задач с данными."
   ]
  },
  {
   "cell_type": "code",
   "execution_count": 1,
   "metadata": {
    "collapsed": false
   },
   "outputs": [],
   "source": [
    "#наши старые знакомые\n",
    "import numpy, pandas\n",
    "import matplotlib.pyplot as plt\n",
    "%matplotlib inline"
   ]
  },
  {
   "cell_type": "markdown",
   "metadata": {
    "collapsed": false
   },
   "source": [
    "#Давайте делать дерево"
   ]
  },
  {
   "cell_type": "code",
   "execution_count": 2,
   "metadata": {
    "collapsed": true
   },
   "outputs": [],
   "source": [
    "from collections import namedtuple\n",
    "Dichotomy = namedtuple(\"Dichotomy\",[\"featureID\", \"threshold\"])"
   ]
  },
  {
   "cell_type": "code",
   "execution_count": 3,
   "metadata": {
    "collapsed": false
   },
   "outputs": [
    {
     "data": {
      "text/plain": [
       "Dichotomy(featureID='age', threshold=55)"
      ]
     },
     "execution_count": 3,
     "metadata": {},
     "output_type": "execute_result"
    }
   ],
   "source": [
    "Dichotomy(\"age\",55)"
   ]
  },
  {
   "cell_type": "code",
   "execution_count": 4,
   "metadata": {
    "collapsed": true
   },
   "outputs": [],
   "source": [
    "def applyDichotomy(X,y,dichotomy):\n",
    "    '''я разделяю выборку по дихотомии'''\n",
    "    selector =  X[:,dichotomy.featureID] >= dichotomy.threshold\n",
    "    not_selector = numpy.logical_not(selector)\n",
    "    \n",
    "    X0,y0 = X[not_selector],y[not_selector]\n",
    "    X1,y1 = X[selector],y[selector]\n",
    "    return X0,y0,X1,y1"
   ]
  },
  {
   "cell_type": "code",
   "execution_count": 5,
   "metadata": {
    "collapsed": true
   },
   "outputs": [],
   "source": [
    "def getInformationGain(X,y,dichotomy):\n",
    "    '''я вычисляю прирост информации от дихотомии'''        \n",
    "    X0,y0,X1,y1 = applyDichotomy(X,y,dichotomy)    \n",
    "    \n",
    "    ##############################################\n",
    "    #Здесь может быть твой код который вычисляет и возвращает  \n",
    "    #прирост информации по любому из критериев по вкусу. \n",
    "    infogain = 0.\n",
    "    ##############################################\n",
    "    return infogain"
   ]
  },
  {
   "cell_type": "code",
   "execution_count": 6,
   "metadata": {
    "collapsed": false
   },
   "outputs": [
    {
     "name": "stdout",
     "output_type": "stream",
     "text": [
      "0.0\n",
      "0.0\n",
      "0.0\n"
     ]
    }
   ],
   "source": [
    "x = numpy.array([[1,0,1],\n",
    "                 [0,1,0],\n",
    "                 [0,1,1],\n",
    "                 [0,0,1],\n",
    "                 [1,0,1],\n",
    "                 [1,1,0]])\n",
    "y = numpy.array([1,0,0,1,1,0])\n",
    "print getInformationGain(x,y,Dichotomy(0,0.5))\n",
    "print getInformationGain(x,y,Dichotomy(1,0.5))\n",
    "print getInformationGain(x,y,Dichotomy(2,0.5))"
   ]
  },
  {
   "cell_type": "code",
   "execution_count": 7,
   "metadata": {
    "collapsed": true
   },
   "outputs": [],
   "source": [
    "def getOptimalDichotomy(X,y):\n",
    "    '''я ищу оптимальную дихотомию'''\n",
    "    \n",
    "    ##############################################\n",
    "    #Напиши код - спаси дерево\n",
    "    #Здесь может быть твой код\n",
    "    #который возвращает оптимальную дихотомию\n",
    "    \n",
    "    #например, так        \n",
    "    dichotomy = Dichotomy(0, 0.5) #Нулевая колонка X >= 0.5\n",
    "    return dichotomy\n",
    "    \n",
    "    #или если подходящей дихотомии нет - возвращает None\n",
    "    return None\n",
    "    ##############################################"
   ]
  },
  {
   "cell_type": "code",
   "execution_count": 8,
   "metadata": {
    "collapsed": false
   },
   "outputs": [
    {
     "ename": "NameError",
     "evalue": "name 'X' is not defined",
     "output_type": "error",
     "traceback": [
      "\u001b[1;31m---------------------------------------------------------------------------\u001b[0m",
      "\u001b[1;31mNameError\u001b[0m                                 Traceback (most recent call last)",
      "\u001b[1;32m<ipython-input-8-5f2bca3b8e2b>\u001b[0m in \u001b[0;36m<module>\u001b[1;34m()\u001b[0m\n\u001b[1;32m----> 1\u001b[1;33m \u001b[1;32mprint\u001b[0m \u001b[0mgetOptimalDichotomy\u001b[0m\u001b[1;33m(\u001b[0m\u001b[0mX\u001b[0m\u001b[1;33m,\u001b[0m\u001b[0my\u001b[0m\u001b[1;33m)\u001b[0m\u001b[1;33m\u001b[0m\u001b[0m\n\u001b[0m",
      "\u001b[1;31mNameError\u001b[0m: name 'X' is not defined"
     ]
    }
   ],
   "source": [
    "print getOptimalDichotomy(X,y)"
   ]
  },
  {
   "cell_type": "code",
   "execution_count": 9,
   "metadata": {
    "collapsed": true
   },
   "outputs": [],
   "source": [
    "#Внимание! здесь может быть синтаксис, который покажется тебе\n",
    "#незнакомым, враждебным и страшным. Не пугайся, это не\n",
    "#принципиально для понимания. Это просто обёртка над теми\n",
    "#функциями, которые ты только что реализовал.\n",
    "\n",
    "class DecisionTreeClassifier:\n",
    "    '''classification Tree'''\n",
    "    def __init__(self,max_depth = 10,min_samples_split = 2,depth = 0):\n",
    "        self.max_depth = max_depth\n",
    "        self.min_samples_split = min_samples_split\n",
    "        self.depth = depth\n",
    "        self.dichotomy = None\n",
    "    def fit(self, X,y):\n",
    "        \n",
    "        self.classProbabilities ={c:numpy.sum(y ==c)/len(y) for c in numpy.unique(y)}        \n",
    "\n",
    "        if self.depth == self.max_depth:\n",
    "            return self;\n",
    "            \n",
    "        self.dichotomy = getOptimalDichotomy(X,y)\n",
    "        \n",
    "        if self.dichotomy is not None:\n",
    "            \n",
    "            X0,y0,X1,y1 = applyDichotomy(X,y,self.dichotomy)\n",
    "            self.child = [DecisionTreeClassifier(self.max_depth,\n",
    "                                                 self.min_samples_split,\n",
    "                                                 self.depth+1)\n",
    "                                                 for i in range(2)]\n",
    "            self.child[0].fit(X0,y0)\n",
    "            self.child[1].fit(X1,y1)\n",
    "                          \n",
    "        return self\n",
    "        \n",
    "    def predict_proba(self,X):\n",
    "        if self.dichotomy is None:\n",
    "            return numpy.repeat(self.classProbabilities,X.shape[0])\n",
    "        else:\n",
    "            selector = X[:,self.dichotomy.featureID] >= self.dichotomy.threshold\n",
    "            y = numpy.zeros(X.shape[0],dtype = object)\n",
    "            y[selector] = self.child[1].predict_proba(X[selector,:])\n",
    "            y[-selector] = self.child[0].predict_proba(X[-selector,:])\n",
    "            return y\n",
    "    def predict(self,X): \n",
    "        class_probas = self.predict_proba(X)\n",
    "        prediction = numpy.zeros(len(X),dtype = object)\n",
    "        for i,class_proba in enumerate(class_probas):            \n",
    "            classes = class_proba.keys()\n",
    "            probas = class_proba.values()\n",
    "            prediction[i]= classes[numpy.argmax(probas)]\n",
    "        return prediction"
   ]
  },
  {
   "cell_type": "code",
   "execution_count": 10,
   "metadata": {
    "collapsed": true
   },
   "outputs": [],
   "source": [
    "from sklearn.datasets import load_iris\n",
    "data = load_iris()\n",
    "X = data.data\n",
    "y = data.target ==1"
   ]
  },
  {
   "cell_type": "code",
   "execution_count": 11,
   "metadata": {
    "collapsed": true
   },
   "outputs": [],
   "source": [
    "from sklearn.cross_validation import train_test_split\n",
    "Xtr,Xts,Ytr,Yts = train_test_split(X,y)"
   ]
  },
  {
   "cell_type": "code",
   "execution_count": 12,
   "metadata": {
    "collapsed": false
   },
   "outputs": [
    {
     "name": "stdout",
     "output_type": "stream",
     "text": [
      "[(False, False), (False, False), (False, False), (True, False), (False, False), (False, False), (True, False), (False, False), (False, False), (True, False), (False, False), (False, False), (True, False), (True, False), (True, False), (True, False), (True, False), (True, False), (False, False), (False, False), (False, False), (False, False), (True, False), (True, False), (False, False), (False, False), (False, False), (False, False), (True, False), (False, False), (False, False), (False, False), (False, False), (True, False), (True, False), (False, False), (False, False), (False, False)]\n"
     ]
    }
   ],
   "source": [
    "tree = DecisionTreeClassifier(max_depth=5).fit(Xtr,Ytr)\n",
    "y_pred = tree.predict(Xts)\n",
    "print zip(Yts,y_pred)"
   ]
  },
  {
   "cell_type": "code",
   "execution_count": 13,
   "metadata": {
    "collapsed": true
   },
   "outputs": [],
   "source": [
    "#посчитай точность прогноза\n"
   ]
  },
  {
   "cell_type": "markdown",
   "metadata": {},
   "source": [
    "#scikit-learn\n",
    "библиотека машинного обучения в составе REP.\n",
    "\n",
    "##данные: spam"
   ]
  },
  {
   "cell_type": "code",
   "execution_count": null,
   "metadata": {
    "collapsed": false
   },
   "outputs": [],
   "source": [
    "data = pandas.read_csv(\"spambase.data\")\n",
    "data[:10]"
   ]
  },
  {
   "cell_type": "code",
   "execution_count": null,
   "metadata": {
    "collapsed": true
   },
   "outputs": [],
   "source": [
    "X = data.icol(range(57)).astype(float)\n",
    "y = data[[-1]].astype(int)"
   ]
  },
  {
   "cell_type": "code",
   "execution_count": null,
   "metadata": {
    "collapsed": true
   },
   "outputs": [],
   "source": [
    "#выделим 2 выборки - для обучения и для проверки качества\n",
    "import sklearn.cross_validation as cv\n",
    "X_train, X_test, y_train,y_test = cv.train_test_split(X,y, test_size = 0.2)"
   ]
  },
  {
   "cell_type": "code",
   "execution_count": null,
   "metadata": {
    "collapsed": false
   },
   "outputs": [],
   "source": [
    "#проверка памяти, каких размеров 4 полученных массива?\n",
    "print \"X_train:\", #<твой код>\n",
    "print \"X_test:\", #<твой код>\n",
    "print \"y_train:\", #<твой код>\n",
    "print \"y_test:\", #<твой код>"
   ]
  },
  {
   "cell_type": "markdown",
   "metadata": {},
   "source": [
    "##деревья в sklearn"
   ]
  },
  {
   "cell_type": "code",
   "execution_count": null,
   "metadata": {
    "collapsed": true
   },
   "outputs": [],
   "source": [
    "from sklearn.tree import DecisionTreeClassifier, DecisionTreeRegressor"
   ]
  },
  {
   "cell_type": "code",
   "execution_count": null,
   "metadata": {
    "collapsed": true
   },
   "outputs": [],
   "source": [
    "#создаём классификатор\n",
    "tree = DecisionTreeClassifier(criterion = 'gini',max_depth = 3)"
   ]
  },
  {
   "cell_type": "code",
   "execution_count": null,
   "metadata": {
    "collapsed": false
   },
   "outputs": [],
   "source": [
    "#обучаем классификатор\n",
    "tree.fit(X_train,y_train)"
   ]
  },
  {
   "cell_type": "code",
   "execution_count": null,
   "metadata": {
    "collapsed": false
   },
   "outputs": [],
   "source": [
    "def get_code(tree, feature_names):\n",
    "        left      = tree.tree_.children_left\n",
    "        right     = tree.tree_.children_right\n",
    "        threshold = tree.tree_.threshold\n",
    "        features  = [feature_names[i] for i in tree.tree_.feature]\n",
    "        value = tree.tree_.value\n",
    "\n",
    "        def recurse(left, right, threshold, features, node,tab=\"\"):\n",
    "                if (threshold[node] != -2):\n",
    "                        print tab,\"if ( \" + features[node] + \" <= \" + str(threshold[node]) + \" ) {\"\n",
    "                        if left[node] != -1:\n",
    "                                recurse (left, right, threshold, features,left[node],tab+'\\t')\n",
    "                        print tab,\"} else {\"\n",
    "                        if right[node] != -1:\n",
    "                                recurse (left, right, threshold, features,right[node],tab+'\\t')\n",
    "                        print tab,\"}\"\n",
    "                else:\n",
    "                        print tab,\"return \" + str(value[node])\n",
    "\n",
    "        recurse(left, right, threshold, features, 0)\n",
    "get_code(tree, ['F'+str(i) for i in range(57)])"
   ]
  },
  {
   "cell_type": "code",
   "execution_count": null,
   "metadata": {
    "collapsed": true
   },
   "outputs": [],
   "source": [
    "#test the tree\n",
    "y_pred_test = tree.predict(X_test)"
   ]
  },
  {
   "cell_type": "code",
   "execution_count": null,
   "metadata": {
    "collapsed": false
   },
   "outputs": [],
   "source": [
    "y_test_array = numpy.array(y_test).reshape(y_test.shape[0])\n",
    "zip(y_test_array[:10],y_pred_test[:10])"
   ]
  },
  {
   "cell_type": "markdown",
   "metadata": {},
   "source": [
    "#оценим качество модели"
   ]
  },
  {
   "cell_type": "code",
   "execution_count": null,
   "metadata": {
    "collapsed": true
   },
   "outputs": [],
   "source": [
    "from sklearn import metrics"
   ]
  },
  {
   "cell_type": "code",
   "execution_count": null,
   "metadata": {
    "collapsed": false
   },
   "outputs": [],
   "source": [
    "metrics.accuracy_score(y_test,y_pred_test)"
   ]
  },
  {
   "cell_type": "code",
   "execution_count": null,
   "metadata": {
    "collapsed": false
   },
   "outputs": [],
   "source": [
    "metrics.average_precision_score(y_test,y_pred_test)"
   ]
  },
  {
   "cell_type": "markdown",
   "metadata": {},
   "source": [
    "#метод ближайших соседей"
   ]
  },
  {
   "cell_type": "code",
   "execution_count": null,
   "metadata": {
    "collapsed": false
   },
   "outputs": [],
   "source": [
    "from sklearn.neighbors import KNeighborsClassifier\n",
    "\n",
    "knn = KNeighborsClassifier(n_neighbors = 3)"
   ]
  },
  {
   "cell_type": "code",
   "execution_count": null,
   "metadata": {
    "collapsed": true
   },
   "outputs": [],
   "source": [
    "#обучи его на тех же данных, что и деревья\n"
   ]
  },
  {
   "cell_type": "code",
   "execution_count": null,
   "metadata": {
    "collapsed": false
   },
   "outputs": [],
   "source": [
    "#сделай прогноз на тестовой выборке\n",
    "y_knn_test = #<твой код>"
   ]
  },
  {
   "cell_type": "code",
   "execution_count": null,
   "metadata": {
    "collapsed": true
   },
   "outputs": [],
   "source": [
    "#оцени KNN по тем же метрикам, что и дерево.\n"
   ]
  },
  {
   "cell_type": "code",
   "execution_count": null,
   "metadata": {
    "collapsed": true
   },
   "outputs": [],
   "source": []
  },
  {
   "cell_type": "markdown",
   "metadata": {},
   "source": [
    "#Регрессия!\n",
    "* задача - предсказать требуемую дозу инсулина\n",
    "* данные анонимизированы, оригинал содержит пол, возраст, несколько анализов\n",
    "* оценить качество по sklearn.metrics.mean_squared_error и mean_absolute_error\n",
    "* сравнить качество с sklearn sklearn.linear_model.LinearRegression"
   ]
  },
  {
   "cell_type": "code",
   "execution_count": null,
   "metadata": {
    "collapsed": true
   },
   "outputs": [],
   "source": [
    "from sklearn.datasets import load_diabetes\n",
    "diabetes = load_diabetes()\n",
    "X,y = diabetes.data,diabetes.target"
   ]
  },
  {
   "cell_type": "code",
   "execution_count": null,
   "metadata": {
    "collapsed": false
   },
   "outputs": [],
   "source": [
    "#дальше сам!"
   ]
  }
 ],
 "metadata": {
  "kernelspec": {
   "display_name": "Python 2",
   "language": "python",
   "name": "python2"
  },
  "language_info": {
   "codemirror_mode": {
    "name": "ipython",
    "version": 2
   },
   "file_extension": ".py",
   "mimetype": "text/x-python",
   "name": "python",
   "nbconvert_exporter": "python",
   "pygments_lexer": "ipython2",
   "version": "2.7.6"
  }
 },
 "nbformat": 4,
 "nbformat_minor": 0
}
